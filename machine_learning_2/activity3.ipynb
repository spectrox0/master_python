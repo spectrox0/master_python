{
 "cells": [
  {
   "cell_type": "code",
   "execution_count": 10,
   "metadata": {},
   "outputs": [
    {
     "name": "stdout",
     "output_type": "stream",
     "text": [
      "   Sample code number  Clump Thickness  Uniformity of Cell Size  \\\n",
      "0             1000025                5                        1   \n",
      "1             1002945                5                        4   \n",
      "2             1015425                3                        1   \n",
      "3             1016277                6                        8   \n",
      "4             1017023                4                        1   \n",
      "\n",
      "   Uniformity of Cell Shape  Marginal Adhesion  Single Epithelial Cell Size  \\\n",
      "0                         1                  1                            2   \n",
      "1                         4                  5                            7   \n",
      "2                         1                  1                            2   \n",
      "3                         8                  1                            3   \n",
      "4                         1                  3                            2   \n",
      "\n",
      "   Bare Nuclei  Bland Chromatin  Normal Nucleoli  Mitoses  Class  \n",
      "0          1.0                3                1        1      2  \n",
      "1         10.0                3                2        1      2  \n",
      "2          2.0                3                1        1      2  \n",
      "3          4.0                3                7        1      2  \n",
      "4          1.0                3                1        1      2  \n"
     ]
    }
   ],
   "source": [
    "import pandas as pd\n",
    "\n",
    "# URL del conjunto de datos\n",
    "url = \"https://archive.ics.uci.edu/ml/machine-learning-databases/breast-cancer-wisconsin/breast-cancer-wisconsin.data\"\n",
    "\n",
    "# Nombres de las columnas\n",
    "column_names = [\n",
    "    \"Sample code number\", \"Clump Thickness\", \"Uniformity of Cell Size\", \n",
    "    \"Uniformity of Cell Shape\", \"Marginal Adhesion\", \"Single Epithelial Cell Size\", \n",
    "    \"Bare Nuclei\", \"Bland Chromatin\", \"Normal Nucleoli\", \"Mitoses\", \"Class\"\n",
    "]\n",
    "\n",
    "# Cargar el conjunto de datos en un DataFrame de pandas\n",
    "df = pd.read_csv(url, names=column_names, na_values=\"?\")\n",
    "\n",
    "# Mostrar las primeras filas del DataFrame\n",
    "print(df.head())"
   ]
  },
  {
   "cell_type": "markdown",
   "metadata": {},
   "source": [
    "Realiza un conteo de los datos faltantes por variable."
   ]
  },
  {
   "cell_type": "code",
   "execution_count": 11,
   "metadata": {},
   "outputs": [
    {
     "name": "stdout",
     "output_type": "stream",
     "text": [
      "There are 16 missing values\n"
     ]
    }
   ],
   "source": [
    "count = df.isna().sum().sum()\n",
    "print(\"There are {} missing values\".format(count))"
   ]
  },
  {
   "cell_type": "code",
   "execution_count": 12,
   "metadata": {},
   "outputs": [
    {
     "name": "stdout",
     "output_type": "stream",
     "text": [
      "Shape después de eliminar filas con al menos un valor faltante: (683, 11)\n",
      "Shape después de eliminar columnas con al menos un valor faltante: (699, 10)\n"
     ]
    }
   ],
   "source": [
    "\n",
    "# Eliminar filas con al menos un valor faltante\n",
    "df_dropna = df.dropna()\n",
    "print(\"Shape después de eliminar filas con al menos un valor faltante:\", df_dropna.shape)\n",
    "\n",
    "# Eliminar las columnas con al menos un valor faltante\n",
    "df_dropna_columns = df.dropna(axis=1)\n",
    "print(\"Shape después de eliminar columnas con al menos un valor faltante:\", df_dropna_columns.shape)\n",
    "\n",
    "# Consideraciones:\n",
    "# - Evalúa si perder ciertas filas o columnas afectará significativamente el análisis posterior.\n",
    "# - Considera el contexto del dataset y la importancia de preservar la mayor cantidad de datos.\n"
   ]
  },
  {
   "cell_type": "markdown",
   "metadata": {},
   "source": [
    "Imputaciones"
   ]
  },
  {
   "cell_type": "code",
   "execution_count": 13,
   "metadata": {},
   "outputs": [],
   "source": [
    "# Univariante\n",
    "from sklearn.impute import SimpleImputer\n",
    "import numpy as np\n",
    "\n",
    "# Imputación por la media\n",
    "imputer_mean = SimpleImputer(missing_values=np.nan, strategy='mean')\n",
    "df_mean = pd.DataFrame(imputer_mean.fit_transform(df), columns=df.columns)\n",
    "\n",
    "# Multivariante\n",
    "from sklearn.experimental import enable_iterative_imputer\n",
    "from sklearn.impute import IterativeImputer\n",
    "\n",
    "# Imputación Iterativa\n",
    "imputer_iterative = IterativeImputer(max_iter=10, random_state=0)\n",
    "df_iterative = pd.DataFrame(imputer_iterative.fit_transform(df), columns=df.columns)\n",
    "\n",
    "# Imputación kNN\n",
    "from sklearn.impute import KNNImputer\n",
    "imputer_knn = KNNImputer(n_neighbors=5)\n",
    "df_knn = pd.DataFrame(imputer_knn.fit_transform(df), columns=df.columns)"
   ]
  },
  {
   "cell_type": "markdown",
   "metadata": {},
   "source": [
    "Compara los resultados de la imputaciones y estrategias en un histograma o grafico de densisdad "
   ]
  },
  {
   "cell_type": "code",
   "execution_count": 14,
   "metadata": {},
   "outputs": [
    {
     "data": {
      "image/png": "[encoded data removed]",
      "text/plain": [
       "<Figure size 864x576 with 1 Axes>"
      ]
     },
     "metadata": {
      "needs_background": "light"
     },
     "output_type": "display_data"
    }
   ],
   "source": [
    "import matplotlib.pyplot as plt\n",
    "import seaborn as sns\n",
    "\n",
    "# Selecciona una columna para comparar, por ejemplo, \"Clump Thickness\"\n",
    "column = \"Clump Thickness\"\n",
    "\n",
    "# Histogramas\n",
    "plt.figure(figsize=(12, 8))\n",
    "sns.histplot(df[column], kde=True, stat=\"density\", label=\"Original\")\n",
    "sns.histplot(df_mean[column], kde=True, stat=\"density\", label=\"Media\")\n",
    "sns.histplot(df_iterative[column], kde=True, stat=\"density\", label=\"Iterative\")\n",
    "sns.histplot(df_knn[column], kde=True, stat=\"density\", label=\"kNN\")\n",
    "plt.title(f'Comparación de Imputación para {column}')\n",
    "plt.legend()\n",
    "plt.show()\n"
   ]
  }
 ],
 "metadata": {
  "kernelspec": {
   "display_name": "base",
   "language": "python",
   "name": "python3"
  },
  "language_info": {
   "codemirror_mode": {
    "name": "ipython",
    "version": 3
   },
   "file_extension": ".py",
   "mimetype": "text/x-python",
   "name": "python",
   "nbconvert_exporter": "python",
   "pygments_lexer": "ipython3",
   "version": "3.11.4"
  },
  "orig_nbformat": 4
 },
 "nbformat": 4,
 "nbformat_minor": 2
}
