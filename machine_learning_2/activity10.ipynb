{
 "cells": [
  {
   "cell_type": "code",
   "execution_count": 24,
   "metadata": {},
   "outputs": [
    {
     "name": "stdout",
     "output_type": "stream",
     "text": [
      "    fLength    fWidth   fSize   fConc  fConc1     fAsym  fM3Long  fM3Trans  \\\n",
      "0   28.7967   16.0021  2.6449  0.3918  0.1982   27.7004  22.0110   -8.2027   \n",
      "1   31.6036   11.7235  2.5185  0.5303  0.3773   26.2722  23.8238   -9.9574   \n",
      "2  162.0520  136.0310  4.0612  0.0374  0.0187  116.7410 -64.8580  -45.2160   \n",
      "3   23.8172    9.5728  2.3385  0.6147  0.3922   27.2107  -6.4633   -7.1513   \n",
      "4   75.1362   30.9205  3.1611  0.3168  0.1832   -5.5277  28.5525   21.8393   \n",
      "\n",
      "    fAlpha     fDist class  \n",
      "0  40.0920   81.8828     g  \n",
      "1   6.3609  205.2610     g  \n",
      "2  76.9600  256.7880     g  \n",
      "3  10.4490  116.7370     g  \n",
      "4   4.6480  356.4620     g  \n",
      "   longitude  latitude  housing_median_age  total_rooms  total_bedrooms  \\\n",
      "0    -122.23     37.88                41.0        880.0           129.0   \n",
      "1    -122.22     37.86                21.0       7099.0          1106.0   \n",
      "2    -122.24     37.85                52.0       1467.0           190.0   \n",
      "3    -122.25     37.85                52.0       1274.0           235.0   \n",
      "4    -122.25     37.85                52.0       1627.0           280.0   \n",
      "\n",
      "   population  households  median_income  median_house_value  \\\n",
      "0       322.0       126.0         8.3252            452600.0   \n",
      "1      2401.0      1138.0         8.3014            358500.0   \n",
      "2       496.0       177.0         7.2574            352100.0   \n",
      "3       558.0       219.0         5.6431            341300.0   \n",
      "4       565.0       259.0         3.8462            342200.0   \n",
      "\n",
      "   ocean_proximity_<1H OCEAN  ocean_proximity_INLAND  ocean_proximity_ISLAND  \\\n",
      "0                      False                   False                   False   \n",
      "1                      False                   False                   False   \n",
      "2                      False                   False                   False   \n",
      "3                      False                   False                   False   \n",
      "4                      False                   False                   False   \n",
      "\n",
      "   ocean_proximity_NEAR BAY  ocean_proximity_NEAR OCEAN  \n",
      "0                      True                       False  \n",
      "1                      True                       False  \n",
      "2                      True                       False  \n",
      "3                      True                       False  \n",
      "4                      True                       False  \n"
     ]
    }
   ],
   "source": [
    "# Nombre: Alejandro Velazco\n",
    "\n",
    "import pandas as pd\n",
    "from sklearn.impute import SimpleImputer\n",
    "\n",
    "# Datos para Clasificación (magic04.data)\n",
    "filename_classification = './magic04/magic04.data'\n",
    "column_names = [\"fLength\", \"fWidth\", \"fSize\", \"fConc\", \"fConc1\", \"fAsym\", \"fM3Long\", \"fM3Trans\", \"fAlpha\", \"fDist\", \"class\"]\n",
    "data_classification = pd.read_csv(filename_classification, names=column_names)\n",
    "print(data_classification.head())\n",
    "\n",
    "# Datos para Regresión (housing.csv)\n",
    "filename_regression = './housing/housing.csv'\n",
    "data_regression = pd.read_csv(filename_regression)\n",
    "imputer = SimpleImputer(strategy=\"median\")\n",
    "data_numeric = data_regression.drop(\"ocean_proximity\", axis=1)  # Eliminamos columnas no numéricas para la imputación\n",
    "imputed_data = imputer.fit_transform(data_numeric)\n",
    "data_imputed = pd.DataFrame(imputed_data, columns=data_numeric.columns)\n",
    "\n",
    "# Agregar de nuevo la columna ocean_proximity\n",
    "data_imputed[\"ocean_proximity\"] = data_regression[\"ocean_proximity\"]\n",
    "\n",
    "# One-hot encoding para la columna ocean_proximity\n",
    "data_regression = pd.get_dummies(data_imputed, columns=['ocean_proximity'])\n",
    "print(data_regression.head())"
   ]
  },
  {
   "cell_type": "code",
   "execution_count": 25,
   "metadata": {},
   "outputs": [],
   "source": [
    "import time, random, numpy\n",
    "from sklearn.preprocessing import StandardScaler\n",
    "from sklearn.model_selection import train_test_split\n",
    "from sklearn.metrics import accuracy_score, mean_squared_error\n",
    "from sklearn.neighbors import KNeighborsClassifier, KNeighborsRegressor\n",
    "from sklearn.ensemble import BaggingClassifier, BaggingRegressor, AdaBoostClassifier, AdaBoostRegressor\n",
    "from sklearn.tree import DecisionTreeClassifier, DecisionTreeRegressor\n",
    "\n",
    "\n",
    "\n",
    "seed = random.seed(time.time())\n",
    "# Función para simplificar la evaluación de modelos\n",
    "def evaluate_model(model, X_train, X_test, y_train, y_test, classification=True):\n",
    "    model.fit(X_train, y_train)\n",
    "    y_pred = model.predict(X_test)\n",
    "    if classification:\n",
    "        return accuracy_score(y_test, y_pred)\n",
    "    else:\n",
    "        return numpy.sqrt(mean_squared_error(y_test, y_pred))"
   ]
  },
  {
   "cell_type": "code",
   "execution_count": 26,
   "metadata": {},
   "outputs": [
    {
     "name": "stdout",
     "output_type": "stream",
     "text": [
      "KNeighborsClassifier: Accuracy = 0.8296\n",
      "Bagging_KNeighborsClassifier: Accuracy = 0.8149\n",
      "AdaBoost_DecisionTreeClassifier: Accuracy = 0.8016\n"
     ]
    }
   ],
   "source": [
    "# Clasificación\n",
    "X_classification = data_classification[data_classification.columns[:-1]]\n",
    "Y_classification = data_classification['class']\n",
    "X_train_class, X_test_class, y_train_class, y_test_class = train_test_split(X_classification, Y_classification, test_size=0.7, random_state=seed)\n",
    "\n",
    "scaler_class = StandardScaler()\n",
    "X_train_class = scaler_class.fit_transform(X_train_class)\n",
    "X_test_class = scaler_class.transform(X_test_class)\n",
    "\n",
    "# Modelos de clasificación\n",
    "models_classification = {\n",
    "    \"KNeighborsClassifier\": KNeighborsClassifier(),\n",
    "    \"Bagging_KNeighborsClassifier\": BaggingClassifier(estimator=KNeighborsClassifier(), n_estimators=100, max_samples=0.1, random_state=seed),\n",
    "    \"AdaBoost_DecisionTreeClassifier\": AdaBoostClassifier(estimator=DecisionTreeClassifier(), n_estimators=50)\n",
    "}\n",
    "\n",
    "for name, model in models_classification.items():\n",
    "    acc = evaluate_model(model, X_train_class, X_test_class, y_train_class, y_test_class)\n",
    "    print(f\"{name}: Accuracy = {acc:.4f}\")"
   ]
  },
  {
   "cell_type": "code",
   "execution_count": 27,
   "metadata": {},
   "outputs": [
    {
     "name": "stdout",
     "output_type": "stream",
     "text": [
      "DecisionTreeRegressor: RMSE = 68498.0946\n",
      "Bagging_DecisionTreeRegressor: RMSE = 54433.6772\n",
      "AdaBoost_DecisionTreeRegressor: RMSE = 47341.5859\n"
     ]
    }
   ],
   "source": [
    "X_regression = data_regression.drop('median_house_value', axis=1)\n",
    "Y_regression = data_regression['median_house_value']\n",
    "X_train_reg, X_test_reg, y_train_reg, y_test_reg = train_test_split(X_regression, Y_regression, test_size=0.3, random_state=seed)\n",
    "\n",
    "scaler_reg = StandardScaler()\n",
    "X_train_reg = scaler_reg.fit_transform(X_train_reg)\n",
    "X_test_reg = scaler_reg.transform(X_test_reg)\n",
    "\n",
    "# Modelos de regresión\n",
    "models_regression = {\n",
    "    \"DecisionTreeRegressor\": DecisionTreeRegressor(random_state=seed),\n",
    "    \"Bagging_DecisionTreeRegressor\": BaggingRegressor(estimator=DecisionTreeRegressor(random_state=seed), n_estimators=100, max_samples=0.1, random_state=seed),\n",
    "    \"AdaBoost_DecisionTreeRegressor\": AdaBoostRegressor(estimator=DecisionTreeRegressor(random_state=seed), n_estimators=100)\n",
    "}\n",
    "\n",
    "for name, model in models_regression.items():\n",
    "    rmse = evaluate_model(model, X_train_reg, X_test_reg, y_train_reg, y_test_reg, classification=False)\n",
    "    print(f\"{name}: RMSE = {rmse:.4f}\")"
   ]
  },
  {
   "cell_type": "code",
   "execution_count": null,
   "metadata": {},
   "outputs": [],
   "source": []
  }
 ],
 "metadata": {
  "kernelspec": {
   "display_name": "base",
   "language": "python",
   "name": "python3"
  },
  "language_info": {
   "codemirror_mode": {
    "name": "ipython",
    "version": 3
   },
   "file_extension": ".py",
   "mimetype": "text/x-python",
   "name": "python",
   "nbconvert_exporter": "python",
   "pygments_lexer": "ipython3",
   "version": "3.11.4"
  }
 },
 "nbformat": 4,
 "nbformat_minor": 2
}
