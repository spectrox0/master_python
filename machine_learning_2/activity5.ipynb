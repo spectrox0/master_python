{
 "cells": [
  {
   "cell_type": "markdown",
   "metadata": {},
   "source": [
    "- Nombre: Alejandro Velazco \n",
    "1. Busca y descarga el conjunto de datos “Climate Model Simulation Crashes” del repositorio UCI Machine Learning. Tiene los datos de un problema de clasificación.\n",
    "2. Cárgalo adecuadamente en un Pandas DataFrame.\n",
    "3. Realiza un conteo de las clases y analiza si hay desequilibrio.\n",
    "4. Evalua el rendimiento del modelo k-Nearest Neigbours mediante las\n",
    "tres estrategias de validación cruzada estudiados y utilizando la\n",
    "métrica que consideres más adecuada."
   ]
  },
  {
   "cell_type": "code",
   "execution_count": 2,
   "metadata": {},
   "outputs": [],
   "source": [
    "import pandas as pd\n",
    "import numpy as np\n",
    "from sklearn.neighbors import KNeighborsClassifier\n",
    "from sklearn.model_selection import train_test_split, cross_val_score, KFold, LeaveOneOut, StratifiedKFold\n",
    "from sklearn.preprocessing import StandardScaler\n",
    "from sklearn.metrics import accuracy_score"
   ]
  },
  {
   "cell_type": "code",
   "execution_count": 11,
   "metadata": {},
   "outputs": [
    {
     "name": "stdout",
     "output_type": "stream",
     "text": [
      "outcome\n",
      "1    494\n",
      "0     46\n",
      "Name: count, dtype: int64\n",
      "KFold Accuracy: 0.9185 (+/- 0.0289)\n",
      "LOOCV Accuracy: 0.9204 (+/- 0.2707)\n",
      "Stratified K-Fold Accuracy: 0.9204 (+/- 0.0119)\n"
     ]
    }
   ],
   "source": [
    "\n",
    "# 1. Descargar el conjunto de datos\n",
    "url = \"./pop_failures.dat\"\n",
    "\n",
    "data = pd.read_csv(url, delimiter=r\"\\s+\")  # El archivo tiene 21 líneas de metadatos al principio\n",
    "\n",
    "# 2. Cargarlo en un Pandas DataFrame\n",
    "df = data.copy()\n",
    "\n",
    "# 3. Conteo de clases y análisis de desequilibrio\n",
    "print(df['outcome'].value_counts())  # 'outcome' es la columna de etiquetas\n",
    "\n",
    "# 4. Evaluar el rendimiento de k-Nearest Neighbors\n",
    "\n",
    "# Separar las características y etiquetas\n",
    "X = df.drop(['outcome'], axis=1).values\n",
    "y = df['outcome'].values\n",
    "\n",
    "# Normalizar los datos\n",
    "scaler = StandardScaler()\n",
    "X_scaled = scaler.fit_transform(X)\n",
    "\n",
    "# Crear modelo KNN\n",
    "knn = KNeighborsClassifier(n_neighbors=5)\n",
    "\n",
    "# Estrategias de validación cruzada\n",
    "kf = KFold(n_splits=10)\n",
    "loocv = LeaveOneOut()\n",
    "stratified_kf = StratifiedKFold(n_splits=10)\n",
    "\n",
    "for strategy, name in zip([kf, loocv, stratified_kf], [\"KFold\", \"LOOCV\", \"Stratified K-Fold\"]):\n",
    "    scores = cross_val_score(knn, X_scaled, y, cv=strategy, scoring='accuracy')\n",
    "    print(f\"{name} Accuracy: {scores.mean():.4f} (+/- {scores.std():.4f})\")\n"
   ]
  }
 ],
 "metadata": {
  "kernelspec": {
   "display_name": "base",
   "language": "python",
   "name": "python3"
  },
  "language_info": {
   "codemirror_mode": {
    "name": "ipython",
    "version": 3
   },
   "file_extension": ".py",
   "mimetype": "text/x-python",
   "name": "python",
   "nbconvert_exporter": "python",
   "pygments_lexer": "ipython3",
   "version": "3.11.4"
  },
  "orig_nbformat": 4
 },
 "nbformat": 4,
 "nbformat_minor": 2
}
