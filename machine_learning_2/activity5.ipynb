{
 "cells": [
  {
   "cell_type": "markdown",
   "metadata": {},
   "source": [
    "- Nombre: Alejandro Velazco \n",
    "1. Busca y descarga el conjunto de datos “Climate Model Simulation Crashes” del repositorio UCI Machine Learning. Tiene los datos de un problema de clasificación.\n",
    "2. Cárgalo adecuadamente en un Pandas DataFrame.\n",
    "3. Realiza un conteo de las clases y analiza si hay desequilibrio.\n",
    "4. Evalua el rendimiento del modelo k-Nearest Neigbours mediante las\n",
    "tres estrategias de validación cruzada estudiados y utilizando la\n",
    "métrica que consideres más adecuada."
   ]
  },
  {
   "cell_type": "code",
   "execution_count": 17,
   "metadata": {},
   "outputs": [],
   "source": [
    "import pandas as pd\n",
    "import numpy as np\n",
    "from sklearn.neighbors import KNeighborsClassifier\n",
    "from sklearn.metrics import  mean_squared_error\n",
    "from sklearn.model_selection import KFold, LeaveOneOut, train_test_split, cross_val_score\n",
    "from sklearn.preprocessing import StandardScaler"
   ]
  },
  {
   "cell_type": "code",
   "execution_count": 30,
   "metadata": {},
   "outputs": [
    {
     "name": "stdout",
     "output_type": "stream",
     "text": [
      "outcome\n",
      "1    494\n",
      "0     46\n",
      "Name: count, dtype: int64\n",
      "KFold Adjusted Accuracy: 0.5248\n",
      "LOOCV Adjusted Accuracy: 0.0796\n",
      "Monte Carlo Adjusted Accuracy: 0.5257\n"
     ]
    }
   ],
   "source": [
    "\n",
    "# 1. Descargar el conjunto de datos\n",
    "url = \"./pop_failures.dat\"\n",
    "\n",
    "data = pd.read_csv(url, delimiter=r\"\\s+\")  # El archivo tiene 21 líneas de metadatos al principio\n",
    "\n",
    "# 2. Cargarlo en un Pandas DataFrame\n",
    "df = data.copy()\n",
    "\n",
    "# 3. Conteo de clases y análisis de desequilibrio\n",
    "print(df['outcome'].value_counts())  # 'outcome' es la columna de etiquetas\n",
    "\n",
    "# 4. Evaluar el rendimiento de k-Nearest Neighbors\n",
    "\n",
    "# Separar las características y etiquetas\n",
    "X = df.drop(['outcome'], axis=1).values\n",
    "y = df['outcome'].values\n",
    "\n",
    "# Normalizar los datos\n",
    "scaler = StandardScaler()\n",
    "X_scaled = scaler.fit_transform(X)\n",
    "\n",
    "# Crear modelo KNN\n",
    "knn = KNeighborsClassifier(n_neighbors=5)\n",
    "\n",
    "# Estrategias de validación cruzada\n",
    "kf = KFold(n_splits=10)\n",
    "loocv = LeaveOneOut()\n",
    "\n",
    "# Función para convertir RMSE a Accuracy\n",
    "def rmse_to_accuracy(rmse_values):\n",
    "    accuracies = [np.sqrt(abs(error)) for error in rmse_values]\n",
    "    return np.mean(accuracies)\n",
    "\n",
    "# KFold\n",
    "kf_rmse_scores = cross_val_score(knn, X_scaled, y, cv=kf, scoring='neg_root_mean_squared_error')\n",
    "print(f\"KFold Adjusted Accuracy: {rmse_to_accuracy(kf_rmse_scores):.4f}\")\n",
    "\n",
    "# LOOCV\n",
    "loocv_rmse_scores = cross_val_score(knn, X_scaled, y, cv=loocv, scoring='neg_root_mean_squared_error')\n",
    "print(f\"LOOCV Adjusted Accuracy: {rmse_to_accuracy(loocv_rmse_scores):.4f}\")\n",
    "\n",
    "# Validación cruzada Monte Carlo\n",
    "monte_carlo_scores = []\n",
    "for _ in range(100):  # Realizar 100 iteraciones/splits aleatorios\n",
    "    X_train, X_test, y_train, y_test = train_test_split(X_scaled, y, test_size=0.3)\n",
    "    knn.fit(X_train, y_train)\n",
    "    predictions = knn.predict(X_test)\n",
    "    mse_value = mean_squared_error(y_test, predictions)\n",
    "    rmse_value = np.sqrt(mse_value)\n",
    "    monte_carlo_scores.append(-rmse_value)  # Agregar el RMSE negativo para que sea consistente con las otras estrategias\n",
    "\n",
    "print(f\"Monte Carlo Adjusted Accuracy: {rmse_to_accuracy(monte_carlo_scores):.4f}\")"
   ]
  }
 ],
 "metadata": {
  "kernelspec": {
   "display_name": "base",
   "language": "python",
   "name": "python3"
  },
  "language_info": {
   "codemirror_mode": {
    "name": "ipython",
    "version": 3
   },
   "file_extension": ".py",
   "mimetype": "text/x-python",
   "name": "python",
   "nbconvert_exporter": "python",
   "pygments_lexer": "ipython3",
   "version": "3.11.4"
  },
  "orig_nbformat": 4
 },
 "nbformat": 4,
 "nbformat_minor": 2
}
