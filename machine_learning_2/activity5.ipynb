{
 "cells": [
  {
   "cell_type": "markdown",
   "metadata": {},
   "source": [
    "\n",
    "Nombre: Alejandro Velazco \n",
    "Busca y descarga el conjunto de datos “Climate Model Simulation\n",
    "Crashes” del repositorio UCI Machine Learning. Tiene los datos de un\n",
    "problema de clasificación.\n",
    "2. Cárgalo adecuadamente en un Pandas DataFrame.\n",
    "3. Realiza un conteo de las clases y analiza si hay desequilibrio.\n",
    "4. Evalua el rendimiento del modelo k-Nearest Neigbours mediante las\n",
    "tres estrategias de validación cruzada estudiados y utilizando la\n",
    "métrica que consideres más adecuada."
   ]
  },
  {
   "cell_type": "code",
   "execution_count": 2,
   "metadata": {},
   "outputs": [
    {
     "ename": "ModuleNotFoundError",
     "evalue": "No module named 'sklearn'",
     "output_type": "error",
     "traceback": [
      "\u001b[1;31m---------------------------------------------------------------------------\u001b[0m",
      "\u001b[1;31mModuleNotFoundError\u001b[0m                       Traceback (most recent call last)",
      "\u001b[1;32mc:\\Users\\Aleja\\Work\\master_python\\machine_learning_2\\activity5.ipynb Cell 2\u001b[0m line \u001b[0;36m2\n\u001b[0;32m      <a href='vscode-notebook-cell:/c%3A/Users/Aleja/Work/master_python/machine_learning_2/activity5.ipynb#W1sZmlsZQ%3D%3D?line=0'>1</a>\u001b[0m \u001b[39mimport\u001b[39;00m \u001b[39mpandas\u001b[39;00m \u001b[39mas\u001b[39;00m \u001b[39mpd\u001b[39;00m\n\u001b[1;32m----> <a href='vscode-notebook-cell:/c%3A/Users/Aleja/Work/master_python/machine_learning_2/activity5.ipynb#W1sZmlsZQ%3D%3D?line=1'>2</a>\u001b[0m \u001b[39mfrom\u001b[39;00m \u001b[39msklearn\u001b[39;00m\u001b[39m.\u001b[39;00m\u001b[39mneighbors\u001b[39;00m \u001b[39mimport\u001b[39;00m KNeighborsClassifier\n\u001b[0;32m      <a href='vscode-notebook-cell:/c%3A/Users/Aleja/Work/master_python/machine_learning_2/activity5.ipynb#W1sZmlsZQ%3D%3D?line=2'>3</a>\u001b[0m \u001b[39mfrom\u001b[39;00m \u001b[39msklearn\u001b[39;00m\u001b[39m.\u001b[39;00m\u001b[39mmodel_selection\u001b[39;00m \u001b[39mimport\u001b[39;00m KFold, LeaveOneOut, train_test_split, cross_val_score\n\u001b[0;32m      <a href='vscode-notebook-cell:/c%3A/Users/Aleja/Work/master_python/machine_learning_2/activity5.ipynb#W1sZmlsZQ%3D%3D?line=3'>4</a>\u001b[0m \u001b[39mfrom\u001b[39;00m \u001b[39msklearn\u001b[39;00m\u001b[39m.\u001b[39;00m\u001b[39mpreprocessing\u001b[39;00m \u001b[39mimport\u001b[39;00m StandardScaler\n",
      "\u001b[1;31mModuleNotFoundError\u001b[0m: No module named 'sklearn'"
     ]
    }
   ],
   "source": [
    "import pandas as pd\n",
    "from sklearn.neighbors import KNeighborsClassifier\n",
    "from sklearn.model_selection import KFold, LeaveOneOut, train_test_split, cross_val_score\n",
    "from sklearn.preprocessing import StandardScaler"
   ]
  },
  {
   "cell_type": "code",
   "execution_count": null,
   "metadata": {},
   "outputs": [
    {
     "ename": "NameError",
     "evalue": "name 'pd' is not defined",
     "output_type": "error",
     "traceback": [
      "\u001b[1;31m---------------------------------------------------------------------------\u001b[0m",
      "\u001b[1;31mNameError\u001b[0m                                 Traceback (most recent call last)",
      "\u001b[1;32mc:\\Users\\Aleja\\Work\\master_python\\machine_learning_2\\activity5.ipynb Cell 3\u001b[0m line \u001b[0;36m4\n\u001b[0;32m      <a href='vscode-notebook-cell:/c%3A/Users/Aleja/Work/master_python/machine_learning_2/activity5.ipynb#W2sZmlsZQ%3D%3D?line=0'>1</a>\u001b[0m \u001b[39m# 1. Descargar el conjunto de datos\u001b[39;00m\n\u001b[0;32m      <a href='vscode-notebook-cell:/c%3A/Users/Aleja/Work/master_python/machine_learning_2/activity5.ipynb#W2sZmlsZQ%3D%3D?line=1'>2</a>\u001b[0m url \u001b[39m=\u001b[39m \u001b[39m\"\u001b[39m\u001b[39m./pop_failures.dat\u001b[39m\u001b[39m\"\u001b[39m\n\u001b[1;32m----> <a href='vscode-notebook-cell:/c%3A/Users/Aleja/Work/master_python/machine_learning_2/activity5.ipynb#W2sZmlsZQ%3D%3D?line=3'>4</a>\u001b[0m data \u001b[39m=\u001b[39m pd\u001b[39m.\u001b[39mread_csv(url, delimiter\u001b[39m=\u001b[39m\u001b[39mr\u001b[39m\u001b[39m\"\u001b[39m\u001b[39m\\\u001b[39m\u001b[39ms+\u001b[39m\u001b[39m\"\u001b[39m)  \u001b[39m# El archivo tiene 21 líneas de metadatos al principio\u001b[39;00m\n\u001b[0;32m      <a href='vscode-notebook-cell:/c%3A/Users/Aleja/Work/master_python/machine_learning_2/activity5.ipynb#W2sZmlsZQ%3D%3D?line=5'>6</a>\u001b[0m \u001b[39m# 2. Cargarlo en un Pandas DataFrame\u001b[39;00m\n\u001b[0;32m      <a href='vscode-notebook-cell:/c%3A/Users/Aleja/Work/master_python/machine_learning_2/activity5.ipynb#W2sZmlsZQ%3D%3D?line=6'>7</a>\u001b[0m df \u001b[39m=\u001b[39m data\u001b[39m.\u001b[39mcopy()\n",
      "\u001b[1;31mNameError\u001b[0m: name 'pd' is not defined"
     ]
    }
   ],
   "source": [
    "\n",
    "# 1. Descargar el conjunto de datos\n",
    "url = \"./pop_failures.dat\"\n",
    "\n",
    "data = pd.read_csv(url, delimiter=r\"\\s+\")  # El archivo tiene 21 líneas de metadatos al principio\n",
    "\n",
    "# 2. Cargarlo en un Pandas DataFrame\n",
    "df = data.copy()\n",
    "\n",
    "# 3. Conteo de clases y análisis de desequilibrio\n",
    "print(df['outcome'].value_counts())  # 'outcome' es la columna de etiquetas\n",
    "\n",
    "# 4. Evaluar el rendimiento de k-Nearest Neighbors\n",
    "\n",
    "# Separar las características y etiquetas\n",
    "X = df.drop(['outcome'], axis=1).values\n",
    "y = df['outcome'].values\n",
    "\n",
    "# Normalizar los datos\n",
    "scaler = StandardScaler()\n",
    "X_scaled = scaler.fit_transform(X)\n",
    "\n",
    "# Crear modelo KNN\n",
    "knn = KNeighborsClassifier(n_neighbors=5)\n",
    "\n",
    "# Estrategias de validación cruzada\n",
    "kf = KFold(n_splits=10)\n",
    "loocv = LeaveOneOut()\n",
    "\n",
    "# Validación cruzada Monte Carlo\n",
    "monte_carlo_scores = []\n",
    "\n",
    "for _ in range(100):  # Realizar 100 iteraciones/splits aleatorios\n",
    "    X_train, X_test, y_train, y_test = train_test_split(X_scaled, y, test_size=0.3)\n",
    "    knn.fit(X_train, y_train)\n",
    "    monte_carlo_scores.append(knn.score(X_test, y_test))\n",
    "monte_carlo_accuracy = np.mean(monte_carlo_scores)\n",
    "\n",
    "print(f\"KFold Accuracy: {np.mean(cross_val_score(knn, X_scaled, y, cv=kf)):.4f}\")\n",
    "print(f\"LOOCV Accuracy: {np.mean(cross_val_score(knn, X_scaled, y, cv=loocv)):.4f}\")\n",
    "print(f\"Monte Carlo Accuracy: {monte_carlo_accuracy:.4f}\")"
   ]
  }
 ],
 "metadata": {
  "kernelspec": {
   "display_name": "base",
   "language": "python",
   "name": "python3"
  },
  "language_info": {
   "codemirror_mode": {
    "name": "ipython",
    "version": 3
   },
   "file_extension": ".py",
   "mimetype": "text/x-python",
   "name": "python",
   "nbconvert_exporter": "python",
   "pygments_lexer": "ipython3",
   "version": "3.10.12"
  },
  "orig_nbformat": 4
 },
 "nbformat": 4,
 "nbformat_minor": 2
}
