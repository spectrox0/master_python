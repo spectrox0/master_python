{
 "cells": [
  {
   "cell_type": "code",
   "execution_count": 13,
   "metadata": {},
   "outputs": [],
   "source": [
    "import pandas as pd"
   ]
  },
  {
   "cell_type": "code",
   "execution_count": 14,
   "metadata": {},
   "outputs": [],
   "source": [
    "train_data = pd.read_csv(\"./optdigitsorig/optdigits.tra\", header=None)\n",
    "test_data = pd.read_csv(\"./optdigitsorig/optdigits.tes\" , header=None)\n"
   ]
  },
  {
   "cell_type": "code",
   "execution_count": 15,
   "metadata": {},
   "outputs": [],
   "source": [
    "X_train = train_data.drop(columns=[64])  # Las primeras 64 columnas son características\n",
    "y_train = train_data[64]  # La última columna es la etiqueta\n",
    "\n",
    "X_test = test_data.drop(columns=[64])\n",
    "y_test = test_data[64]"
   ]
  },
  {
   "cell_type": "code",
   "execution_count": 16,
   "metadata": {},
   "outputs": [],
   "source": [
    "from sklearn.preprocessing import StandardScaler\n",
    "# Utilizamos StandardScaler para escalar los datos de entrenamiento y prueba.\n",
    "\n",
    "# Escalar los datos\n",
    "scaler = StandardScaler()\n",
    "X_train_scaled = scaler.fit_transform(X_train)\n",
    "X_test_scaled = scaler.transform(X_test)"
   ]
  },
  {
   "cell_type": "code",
   "execution_count": 17,
   "metadata": {},
   "outputs": [
    {
     "name": "stdout",
     "output_type": "stream",
     "text": [
      "Iteration 1, loss = 0.80767233\n",
      "Iteration 2, loss = 0.13232024\n",
      "Iteration 3, loss = 0.07960725\n",
      "Iteration 4, loss = 0.05414439\n",
      "Iteration 5, loss = 0.04355277\n",
      "Iteration 6, loss = 0.03454404\n",
      "Iteration 7, loss = 0.02863724\n",
      "Iteration 8, loss = 0.02411504\n",
      "Iteration 9, loss = 0.02117503\n",
      "Iteration 10, loss = 0.01803912\n",
      "Iteration 11, loss = 0.01836755\n",
      "Iteration 12, loss = 0.01529756\n",
      "Iteration 13, loss = 0.01298123\n",
      "Iteration 14, loss = 0.01134477\n",
      "Iteration 15, loss = 0.01619196\n",
      "Iteration 16, loss = 0.00998822\n",
      "Iteration 17, loss = 0.00879035\n",
      "Iteration 18, loss = 0.00804989\n",
      "Iteration 19, loss = 0.00720385\n",
      "Iteration 20, loss = 0.00662560\n",
      "Iteration 21, loss = 0.00619442\n",
      "Iteration 22, loss = 0.00574460\n",
      "Iteration 23, loss = 0.00539958\n",
      "Iteration 24, loss = 0.00517375\n",
      "Iteration 25, loss = 0.00496131\n",
      "Iteration 26, loss = 0.00462050\n",
      "Iteration 27, loss = 0.00441380\n",
      "Iteration 28, loss = 0.00422316\n",
      "Iteration 29, loss = 0.00411507\n",
      "Iteration 30, loss = 0.00385310\n",
      "Iteration 31, loss = 0.00368297\n",
      "Iteration 32, loss = 0.00359798\n",
      "Iteration 33, loss = 0.00342144\n",
      "Iteration 34, loss = 0.00327174\n",
      "Iteration 35, loss = 0.00314312\n",
      "Iteration 36, loss = 0.00305639\n",
      "Iteration 37, loss = 0.00293106\n",
      "Iteration 38, loss = 0.00284478\n",
      "Iteration 39, loss = 0.00281074\n",
      "Iteration 40, loss = 0.00266263\n",
      "Iteration 41, loss = 0.00262371\n",
      "Iteration 42, loss = 0.00253278\n",
      "Iteration 43, loss = 0.00246398\n",
      "Iteration 44, loss = 0.00239002\n",
      "Iteration 45, loss = 0.00230236\n",
      "Iteration 46, loss = 0.00222752\n",
      "Iteration 47, loss = 0.00218257\n",
      "Iteration 48, loss = 0.00212993\n",
      "Iteration 49, loss = 0.00207393\n",
      "Iteration 50, loss = 0.00202901\n",
      "Iteration 51, loss = 0.00198733\n",
      "Training loss did not improve more than tol=0.000100 for 10 consecutive epochs. Stopping.\n"
     ]
    },
    {
     "data": {
      "text/html": [
       "<style>#sk-container-id-2 {color: black;background-color: white;}#sk-container-id-2 pre{padding: 0;}#sk-container-id-2 div.sk-toggleable {background-color: white;}#sk-container-id-2 label.sk-toggleable__label {cursor: pointer;display: block;width: 100%;margin-bottom: 0;padding: 0.3em;box-sizing: border-box;text-align: center;}#sk-container-id-2 label.sk-toggleable__label-arrow:before {content: \"▸\";float: left;margin-right: 0.25em;color: #696969;}#sk-container-id-2 label.sk-toggleable__label-arrow:hover:before {color: black;}#sk-container-id-2 div.sk-estimator:hover label.sk-toggleable__label-arrow:before {color: black;}#sk-container-id-2 div.sk-toggleable__content {max-height: 0;max-width: 0;overflow: hidden;text-align: left;background-color: #f0f8ff;}#sk-container-id-2 div.sk-toggleable__content pre {margin: 0.2em;color: black;border-radius: 0.25em;background-color: #f0f8ff;}#sk-container-id-2 input.sk-toggleable__control:checked~div.sk-toggleable__content {max-height: 200px;max-width: 100%;overflow: auto;}#sk-container-id-2 input.sk-toggleable__control:checked~label.sk-toggleable__label-arrow:before {content: \"▾\";}#sk-container-id-2 div.sk-estimator input.sk-toggleable__control:checked~label.sk-toggleable__label {background-color: #d4ebff;}#sk-container-id-2 div.sk-label input.sk-toggleable__control:checked~label.sk-toggleable__label {background-color: #d4ebff;}#sk-container-id-2 input.sk-hidden--visually {border: 0;clip: rect(1px 1px 1px 1px);clip: rect(1px, 1px, 1px, 1px);height: 1px;margin: -1px;overflow: hidden;padding: 0;position: absolute;width: 1px;}#sk-container-id-2 div.sk-estimator {font-family: monospace;background-color: #f0f8ff;border: 1px dotted black;border-radius: 0.25em;box-sizing: border-box;margin-bottom: 0.5em;}#sk-container-id-2 div.sk-estimator:hover {background-color: #d4ebff;}#sk-container-id-2 div.sk-parallel-item::after {content: \"\";width: 100%;border-bottom: 1px solid gray;flex-grow: 1;}#sk-container-id-2 div.sk-label:hover label.sk-toggleable__label {background-color: #d4ebff;}#sk-container-id-2 div.sk-serial::before {content: \"\";position: absolute;border-left: 1px solid gray;box-sizing: border-box;top: 0;bottom: 0;left: 50%;z-index: 0;}#sk-container-id-2 div.sk-serial {display: flex;flex-direction: column;align-items: center;background-color: white;padding-right: 0.2em;padding-left: 0.2em;position: relative;}#sk-container-id-2 div.sk-item {position: relative;z-index: 1;}#sk-container-id-2 div.sk-parallel {display: flex;align-items: stretch;justify-content: center;background-color: white;position: relative;}#sk-container-id-2 div.sk-item::before, #sk-container-id-2 div.sk-parallel-item::before {content: \"\";position: absolute;border-left: 1px solid gray;box-sizing: border-box;top: 0;bottom: 0;left: 50%;z-index: -1;}#sk-container-id-2 div.sk-parallel-item {display: flex;flex-direction: column;z-index: 1;position: relative;background-color: white;}#sk-container-id-2 div.sk-parallel-item:first-child::after {align-self: flex-end;width: 50%;}#sk-container-id-2 div.sk-parallel-item:last-child::after {align-self: flex-start;width: 50%;}#sk-container-id-2 div.sk-parallel-item:only-child::after {width: 0;}#sk-container-id-2 div.sk-dashed-wrapped {border: 1px dashed gray;margin: 0 0.4em 0.5em 0.4em;box-sizing: border-box;padding-bottom: 0.4em;background-color: white;}#sk-container-id-2 div.sk-label label {font-family: monospace;font-weight: bold;display: inline-block;line-height: 1.2em;}#sk-container-id-2 div.sk-label-container {text-align: center;}#sk-container-id-2 div.sk-container {/* jupyter's `normalize.less` sets `[hidden] { display: none; }` but bootstrap.min.css set `[hidden] { display: none !important; }` so we also need the `!important` here to be able to override the default hidden behavior on the sphinx rendered scikit-learn.org. See: https://github.com/scikit-learn/scikit-learn/issues/21755 */display: inline-block !important;position: relative;}#sk-container-id-2 div.sk-text-repr-fallback {display: none;}</style><div id=\"sk-container-id-2\" class=\"sk-top-container\"><div class=\"sk-text-repr-fallback\"><pre>MLPClassifier(learning_rate_init=0.1, max_iter=1000, random_state=1,\n",
       "              solver=&#x27;sgd&#x27;, verbose=10)</pre><b>In a Jupyter environment, please rerun this cell to show the HTML representation or trust the notebook. <br />On GitHub, the HTML representation is unable to render, please try loading this page with nbviewer.org.</b></div><div class=\"sk-container\" hidden><div class=\"sk-item\"><div class=\"sk-estimator sk-toggleable\"><input class=\"sk-toggleable__control sk-hidden--visually\" id=\"sk-estimator-id-2\" type=\"checkbox\" checked><label for=\"sk-estimator-id-2\" class=\"sk-toggleable__label sk-toggleable__label-arrow\">MLPClassifier</label><div class=\"sk-toggleable__content\"><pre>MLPClassifier(learning_rate_init=0.1, max_iter=1000, random_state=1,\n",
       "              solver=&#x27;sgd&#x27;, verbose=10)</pre></div></div></div></div></div>"
      ],
      "text/plain": [
       "MLPClassifier(learning_rate_init=0.1, max_iter=1000, random_state=1,\n",
       "              solver='sgd', verbose=10)"
      ]
     },
     "execution_count": 17,
     "metadata": {},
     "output_type": "execute_result"
    }
   ],
   "source": [
    " # Entrenar el modelo usando MLPClassifier:\n",
    "\n",
    "from sklearn.neural_network import MLPClassifier\n",
    "\n",
    "mlp = MLPClassifier(hidden_layer_sizes=(100,), max_iter=1000, alpha=1e-4,\n",
    "                    solver='sgd', verbose=10, random_state=1,\n",
    "                    learning_rate_init=.1)\n",
    "\n",
    "mlp.fit(X_train_scaled, y_train)"
   ]
  },
  {
   "cell_type": "code",
   "execution_count": 18,
   "metadata": {},
   "outputs": [
    {
     "name": "stdout",
     "output_type": "stream",
     "text": [
      "Accuracy: 0.9638286032276016\n",
      "Balanced Accuracy: 0.9636148972968058\n",
      "Confusion Matrix:\n",
      "[[178   0   0   0   0   0   0   0   0   0]\n",
      " [  0 181   0   0   0   0   0   0   1   0]\n",
      " [  0   1 172   0   0   0   3   0   1   0]\n",
      " [  0   1   4 171   0   2   0   1   2   2]\n",
      " [  0   2   0   0 175   0   0   1   3   0]\n",
      " [  0   0   1   0   0 179   1   0   0   1]\n",
      " [  1   0   0   0   1   0 179   0   0   0]\n",
      " [  0   0   0   0   2   4   0 166   0   7]\n",
      " [  0   6   0   1   1   2   0   0 156   8]\n",
      " [  0   0   0   1   0   2   0   1   1 175]]\n"
     ]
    }
   ],
   "source": [
    "# Evaluacion\n",
    "from sklearn.metrics import accuracy_score, confusion_matrix, balanced_accuracy_score\n",
    "\n",
    "y_pred = mlp.predict(X_test_scaled)\n",
    "\n",
    "print(\"Accuracy:\", accuracy_score(y_test, y_pred))\n",
    "print(\"Balanced Accuracy:\", balanced_accuracy_score(y_test, y_pred))\n",
    "print(\"Confusion Matrix:\")\n",
    "print(confusion_matrix(y_test, y_pred))"
   ]
  },
  {
   "cell_type": "code",
   "execution_count": 19,
   "metadata": {},
   "outputs": [
    {
     "name": "stdout",
     "output_type": "stream",
     "text": [
      "Best parameters found:  {'activation': 'relu', 'alpha': 0.05, 'hidden_layer_sizes': (100,), 'learning_rate': 'adaptive', 'solver': 'adam'}\n",
      "Best cross-validation accuracy: 0.9803823067688614\n",
      "Test set accuracy: 0.9643850862548692\n",
      "Balanced Accuracy: 0.964186851034863\n",
      "Confusion Matrix:\n",
      "[[176   0   0   0   0   2   0   0   0   0]\n",
      " [  0 179   0   0   0   0   2   0   1   0]\n",
      " [  0   2 174   0   0   0   0   1   0   0]\n",
      " [  0   0   4 172   0   2   0   1   3   1]\n",
      " [  0   1   0   0 178   0   0   1   1   0]\n",
      " [  0   0   0   0   0 180   0   0   0   2]\n",
      " [  0   0   0   0   2   0 179   0   0   0]\n",
      " [  0   0   0   0   1   4   0 167   0   7]\n",
      " [  0   7   0   0   1   2   0   0 157   7]\n",
      " [  0   0   1   1   0   4   0   0   3 171]]\n"
     ]
    }
   ],
   "source": [
    "# Optimize hyperparameters\n",
    "\n",
    "from sklearn.model_selection import GridSearchCV\n",
    "\n",
    "param_grid = {\n",
    "    'hidden_layer_sizes': [(50,), (100,), (50, 50)],\n",
    "    'activation': ['tanh', 'relu'],\n",
    "    'solver': ['sgd', 'adam'],\n",
    "    'alpha': [0.0001, 0.05],\n",
    "    'learning_rate': ['constant', 'adaptive'],\n",
    "}\n",
    "\n",
    "mlp = MLPClassifier(max_iter=1000)\n",
    "\n",
    "clf = GridSearchCV(mlp, param_grid, scoring='accuracy', cv=3, n_jobs=-1)\n",
    "clf.fit(X_train_scaled, y_train)\n",
    "\n",
    "print(\"Best parameters found: \", clf.best_params_)\n",
    "\n",
    "# Imprimir el mejor rendimiento obtenido durante la validación cruzada\n",
    "print(\"Best cross-validation accuracy:\", clf.best_score_)\n",
    "\n",
    "# Evaluar el rendimiento del modelo con los mejores hiperparámetros en el conjunto de prueba\n",
    "y_pred = clf.predict(X_test_scaled)\n",
    "\n",
    "print(\"Test set accuracy:\", accuracy_score(y_test, y_pred))\n",
    "print(\"Balanced Accuracy:\", balanced_accuracy_score(y_test, y_pred))\n",
    "print(\"Confusion Matrix:\")\n",
    "print(confusion_matrix(y_test, y_pred))"
   ]
  },
  {
   "cell_type": "code",
   "execution_count": 1,
   "metadata": {},
   "outputs": [
    {
     "name": "stdout",
     "output_type": "stream",
     "text": [
      "[1, 2, 3, 4, 1, 2, 3, 4, 1, 2, 3, 4]\n"
     ]
    }
   ],
   "source": [
    "list_1 = [1,2]\n",
    "list_2  = [3,4]\n",
    "list_3 = list_1 + list_2\n",
    "list_4 = list_3 * 3\n",
    "print(list_4)"
   ]
  },
  {
   "cell_type": "code",
   "execution_count": 2,
   "metadata": {},
   "outputs": [
    {
     "data": {
      "text/plain": [
       "'1.23'"
      ]
     },
     "execution_count": 2,
     "metadata": {},
     "output_type": "execute_result"
    }
   ],
   "source": [
    "format(1.23456789, '.2f')"
   ]
  }
 ],
 "metadata": {
  "kernelspec": {
   "display_name": "base",
   "language": "python",
   "name": "python3"
  },
  "language_info": {
   "codemirror_mode": {
    "name": "ipython",
    "version": 3
   },
   "file_extension": ".py",
   "mimetype": "text/x-python",
   "name": "python",
   "nbconvert_exporter": "python",
   "pygments_lexer": "ipython3",
   "version": "3.11.5"
  }
 },
 "nbformat": 4,
 "nbformat_minor": 2
}
