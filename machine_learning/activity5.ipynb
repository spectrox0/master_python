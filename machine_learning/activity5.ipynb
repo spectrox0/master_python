{
 "cells": [
  {
   "cell_type": "code",
   "execution_count": 86,
   "metadata": {},
   "outputs": [],
   "source": [
    "import math"
   ]
  },
  {
   "cell_type": "markdown",
   "metadata": {},
   "source": [
    "Problema I\n",
    "Se pide agrupar un total de 8 patrones bidimensionales en tres clusters (𝑘 =\n",
    "3). Los patrones son los siguientes: A1 (2,10), A2(2,5), A3(8,4), A4(5,8), A5(7,5),\n",
    "A6(6,4), A7(1,2) y A8(4,9). Los centroides iniciales son los puntos A1, A3 y A4.\n",
    "La métrica de distancia utilizada será la distancia euclídea.\n",
    "Se pide:\n",
    "1. Representar los clusters creados y la posición de los centroides después\n",
    "de cada iteración.\n"
   ]
  },
  {
   "cell_type": "code",
   "execution_count": 87,
   "metadata": {},
   "outputs": [],
   "source": [
    "\n",
    "# Patrones\n",
    "A1 = [2, 10]\n",
    "A2 = [2, 5]\n",
    "A3 = [8, 4]\n",
    "A4 = [5, 8]\n",
    "A5 = [7, 5]\n",
    "A6 = [6, 4]\n",
    "A7 = [1, 2]\n",
    "A8 = [4, 9]\n",
    "\n",
    "data = [A1, A2, A3, A4, A5, A6, A7, A8]\n",
    "\n",
    "# Centroides iniciales\n",
    "centroids = [A1, A3, A4]\n",
    "\n"
   ]
  },
  {
   "cell_type": "code",
   "execution_count": 88,
   "metadata": {},
   "outputs": [
    {
     "name": "stdout",
     "output_type": "stream",
     "text": [
      "\n",
      "Iteración 1\n",
      "Centroides: [[2, 10], [8, 4], [5, 8]]\n",
      "Cluster 1: [[2, 10]]\n",
      "Cluster 2: [[8, 4], [7, 5], [6, 4]]\n",
      "Cluster 3: [[2, 5], [5, 8], [1, 2], [4, 9]]\n",
      "\n",
      "Iteración 2\n",
      "Centroides: [[2.0, 10.0], [7.0, 4.333333333333333], [3.0, 6.0]]\n",
      "Cluster 1: [[2, 10], [4, 9]]\n",
      "Cluster 2: [[8, 4], [7, 5], [6, 4]]\n",
      "Cluster 3: [[2, 5], [5, 8], [1, 2]]\n",
      "\n",
      "Iteración 3\n",
      "Centroides: [[3.0, 9.5], [7.0, 4.333333333333333], [2.6666666666666665, 5.0]]\n",
      "Cluster 1: [[2, 10], [5, 8], [4, 9]]\n",
      "Cluster 2: [[8, 4], [7, 5], [6, 4]]\n",
      "Cluster 3: [[2, 5], [1, 2]]\n",
      "\n",
      "Iteración 4\n",
      "Centroides: [[3.6666666666666665, 9.0], [7.0, 4.333333333333333], [1.5, 3.5]]\n",
      "Cluster 1: [[2, 10], [5, 8], [4, 9]]\n",
      "Cluster 2: [[8, 4], [7, 5], [6, 4]]\n",
      "Cluster 3: [[2, 5], [1, 2]]\n"
     ]
    }
   ],
   "source": [
    "def calculate_sse(clusters, centroids):\n",
    "    sse = 0\n",
    "    for i, cluster in enumerate(clusters):\n",
    "        for point in cluster:\n",
    "            sse += euclidean_distance(point, centroids[i])**2\n",
    "    return sse\n",
    "# Función de distancia euclídea\n",
    "def euclidean_distance(p1, p2):\n",
    "    return math.sqrt((p1[0] - p2[0])**2 + (p1[1] - p2[1])**2)\n",
    "def kmeans(data, centroids):\n",
    "    iterations = 0\n",
    "    old_centroids = [[0, 0] for _ in centroids]\n",
    "    while centroids != old_centroids:\n",
    "        iterations += 1\n",
    "        print(f\"\\nIteración {iterations}\")\n",
    "        print(\"Centroides:\", centroids)\n",
    "        \n",
    "        # 1. Asignación de puntos a clusters\n",
    "        clusters = [[] for _ in centroids]\n",
    "        for point in data:\n",
    "            distances = [euclidean_distance(point, centroid) for centroid in centroids]\n",
    "            cluster_index = distances.index(min(distances))\n",
    "            clusters[cluster_index].append(point)\n",
    "\n",
    "        # Imprimir clusters\n",
    "        for i, cluster in enumerate(clusters):\n",
    "            print(f\"Cluster {i + 1}: {cluster}\")\n",
    "\n",
    "        # 2. Actualización de los centroides\n",
    "        old_centroids = centroids.copy()\n",
    "        for i, cluster in enumerate(clusters):\n",
    "            if cluster:  # si el cluster tiene puntos\n",
    "                x_coords = [point[0] for point in cluster]\n",
    "                y_coords = [point[1] for point in cluster]\n",
    "                centroids[i] = [sum(x_coords) / len(cluster), sum(y_coords) / len(cluster)]\n",
    "    return calculate_sse(clusters, centroids)\n",
    "\n",
    "sse = kmeans(data, centroids)"
   ]
  },
  {
   "cell_type": "markdown",
   "metadata": {},
   "source": [
    "El valor de la métrica SSE."
   ]
  },
  {
   "cell_type": "code",
   "execution_count": 89,
   "metadata": {},
   "outputs": [
    {
     "name": "stdout",
     "output_type": "stream",
     "text": [
      "\n",
      "Valor de SSE: 14.3333\n"
     ]
    }
   ],
   "source": [
    "\n",
    "print(f\"\\nValor de SSE: {round(sse,4)}\")"
   ]
  },
  {
   "cell_type": "markdown",
   "metadata": {},
   "source": [
    "Comparar los resultados con los obtenidos en el ejemplo de la sección 2.3. del manual de la lección 5.\n",
    "R = Los problemas tienen exactamente los mismos valores en el patrones dados, cambiando unicamente los centroides iniciales "
   ]
  },
  {
   "cell_type": "code",
   "execution_count": 91,
   "metadata": {},
   "outputs": [
    {
     "name": "stdout",
     "output_type": "stream",
     "text": [
      "\n",
      "Iteración 1\n",
      "Centroides: [[2, 10], [5, 8], [1, 2]]\n",
      "Cluster 1: [[2, 10]]\n",
      "Cluster 2: [[8, 4], [5, 8], [7, 5], [6, 4], [4, 9]]\n",
      "Cluster 3: [[2, 5], [1, 2]]\n",
      "\n",
      "Iteración 2\n",
      "Centroides: [[2.0, 10.0], [6.0, 6.0], [1.5, 3.5]]\n",
      "Cluster 1: [[2, 10], [4, 9]]\n",
      "Cluster 2: [[8, 4], [5, 8], [7, 5], [6, 4]]\n",
      "Cluster 3: [[2, 5], [1, 2]]\n",
      "\n",
      "Iteración 3\n",
      "Centroides: [[3.0, 9.5], [6.5, 5.25], [1.5, 3.5]]\n",
      "Cluster 1: [[2, 10], [5, 8], [4, 9]]\n",
      "Cluster 2: [[8, 4], [7, 5], [6, 4]]\n",
      "Cluster 3: [[2, 5], [1, 2]]\n",
      "\n",
      "Iteración 4\n",
      "Centroides: [[3.6666666666666665, 9.0], [7.0, 4.333333333333333], [1.5, 3.5]]\n",
      "Cluster 1: [[2, 10], [5, 8], [4, 9]]\n",
      "Cluster 2: [[8, 4], [7, 5], [6, 4]]\n",
      "Cluster 3: [[2, 5], [1, 2]]\n",
      "\n",
      "Valor de SSE: 14.3333\n",
      "True\n"
     ]
    }
   ],
   "source": [
    "centroides_2 = [A1, A4 , A7]\n",
    "\n",
    "sse_2 = kmeans(data, centroides_2)\n",
    "print(f\"\\nValor de SSE: {round(sse_2,4)}\"\t)\n",
    "print(sse_2 == sse)"
   ]
  },
  {
   "cell_type": "markdown",
   "metadata": {},
   "source": [
    "Como se puede ver el SSE es el mismo que el obtenido en el ejemplo de la leccion 5, asi como los resultados en los clusters, \n",
    "El algoritmo de K-means es sensible a la elección de los centroides iniciales. Si bien cambiar los centroides iniciales puede llevar a diferentes agrupaciones, en algunos casos, distintas elecciones iniciales de centroides pueden converger al mismo resultado. Esta situación puede deberse a varias razones tales como un dataset simple y de reducido tamaño, la distribucion de los datos y la localizacion de los centroids."
   ]
  },
  {
   "cell_type": "code",
   "execution_count": null,
   "metadata": {},
   "outputs": [],
   "source": [
    "#"
   ]
  }
 ],
 "metadata": {
  "kernelspec": {
   "display_name": "Python 3",
   "language": "python",
   "name": "python3"
  },
  "language_info": {
   "codemirror_mode": {
    "name": "ipython",
    "version": 3
   },
   "file_extension": ".py",
   "mimetype": "text/x-python",
   "name": "python",
   "nbconvert_exporter": "python",
   "pygments_lexer": "ipython3",
   "version": "3.10.12"
  },
  "orig_nbformat": 4
 },
 "nbformat": 4,
 "nbformat_minor": 2
}
