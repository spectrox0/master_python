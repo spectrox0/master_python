{
 "cells": [
  {
   "cell_type": "code",
   "execution_count": 1,
   "metadata": {},
   "outputs": [
    {
     "name": "stdout",
     "output_type": "stream",
     "text": [
      "030\n"
     ]
    }
   ],
   "source": [
    "\n",
    "x = 2\n",
    "def fun1():\n",
    "    global x\n",
    "    x = x % 2\n",
    "    return x\n",
    "\n",
    "def fun2():\n",
    "    x = 3\n",
    "    return x\n",
    "\n",
    "print(fun1(), fun2(), x, sep=\"\")\n"
   ]
  },
  {
   "cell_type": "code",
   "execution_count": null,
   "metadata": {},
   "outputs": [],
   "source": [
    "def fun(x ,y = 4, z = 6):\n",
    "    return x + y / z\n",
    "\n",
    "print(fun(20, z = 2))"
   ]
  }
 ],
 "metadata": {
  "kernelspec": {
   "display_name": "Python 3",
   "language": "python",
   "name": "python3"
  },
  "language_info": {
   "codemirror_mode": {
    "name": "ipython",
    "version": 3
   },
   "file_extension": ".py",
   "mimetype": "text/x-python",
   "name": "python",
   "nbconvert_exporter": "python",
   "pygments_lexer": "ipython3",
   "version": "3.9.6"
  }
 },
 "nbformat": 4,
 "nbformat_minor": 2
}
